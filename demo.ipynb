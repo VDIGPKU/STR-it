{
  "cells": [
    {
      "cell_type": "markdown",
      "metadata": {
        "colab_type": "text",
        "id": "view-in-github"
      },
      "source": [
        "<a href=\"https://colab.research.google.com/github/tgalkovskyi/deep-text-recognition-benchmark/blob/master/demo.ipynb\" target=\"_parent\"><img src=\"https://colab.research.google.com/assets/colab-badge.svg\" alt=\"Open In Colab\"/></a>"
      ]
    },
    {
      "cell_type": "markdown",
      "metadata": {
        "colab_type": "text",
        "id": "dHbHK60Tqn2c"
      },
      "source": [
        "This can be executed in https://colab.research.google.com \"Python 3 / GPU\" runtime."
      ]
    },
    {
      "cell_type": "code",
      "execution_count": null,
      "metadata": {
        "colab": {
          "base_uri": "https://localhost:8080/",
          "height": 153
        },
        "colab_type": "code",
        "id": "Pi-PA14AhdK-",
        "outputId": "5d620547-6ce9-42b9-8206-20f88f23e567"
      },
      "outputs": [],
      "source": [
        "!git clone https://github.com/VDIGPKU/STR-it\n",
        "%cd str_it"
      ]
    },
    {
      "cell_type": "markdown",
      "metadata": {
        "colab_type": "text",
        "id": "jX-ucvimlaFZ"
      },
      "source": [
        "Next, download large model files from Github:"
      ]
    },
    {
      "cell_type": "code",
      "execution_count": null,
      "metadata": {
        "colab": {
          "base_uri": "https://localhost:8080/",
          "height": 833
        },
        "colab_type": "code",
        "id": "9eEhhPBshkjr",
        "outputId": "205d0bd8-340f-4e9b-ebfd-e9c8f7d327a0"
      },
      "outputs": [],
      "source": [
        "models = {\n",
        "    'CRNN.pth': 'https://github.com/VDIGPKU/storage/releases/download/str.0.0.1/CRNN.pth',\n",
        "    'STARNet.pth': 'https://github.com/VDIGPKU/storage/releases/download/str.0.0.1/STARNet.pth',\n",
        "    'TRBA.pth': 'https://github.com/VDIGPKU/storage/releases/download/str.0.0.1/TRBA.pth',\n",
        "}\n",
        "\n",
        "for k, v in models.items():\n",
        "  !wget \"$v\" \n",
        "!ls -al *.pth"
      ]
    },
    {
      "cell_type": "code",
      "execution_count": null,
      "metadata": {
        "colab": {},
        "colab_type": "code",
        "id": "s-E716WnhfrI"
      },
      "outputs": [],
      "source": [
        "output = !CUDA_VISIBLE_DEVICES=0 python3 demo.py \\\n",
        "--Transformation TPS --FeatureExtraction ResNet --SequenceModeling BiLSTM --Prediction Attn \\\n",
        "--image_folder demo_image/ \\\n",
        "--saved_model TRBA.pth"
      ]
    },
    {
      "cell_type": "code",
      "execution_count": null,
      "metadata": {
        "colab": {
          "base_uri": "https://localhost:8080/",
          "height": 1000
        },
        "colab_type": "code",
        "id": "bJRPln2QlxlJ",
        "outputId": "a81e0b6b-8171-49a6-c59f-15649d7c6bb8"
      },
      "outputs": [],
      "source": [
        "from IPython.core.display import display, HTML\n",
        "from PIL import Image\n",
        "import base64\n",
        "import io\n",
        "import pandas as pd\n",
        "\n",
        "data = pd.DataFrame()\n",
        "for ind, row in enumerate(output[output.index('image_path               \\tpredicted_labels         \\tconfidence score')+2:]):\n",
        "  row = row.split('\\t')\n",
        "  filename = row[0].strip()\n",
        "  label = row[1].strip()\n",
        "  conf = row[2].strip()\n",
        "  img = Image.open(filename)\n",
        "  img_buffer = io.BytesIO()\n",
        "  img.save(img_buffer, format=\"PNG\")\n",
        "  imgStr = base64.b64encode(img_buffer.getvalue()).decode(\"utf-8\") \n",
        "\n",
        "  data.loc[ind, 'img'] = '<img src=\"data:image/png;base64,{0:s}\">'.format(imgStr)\n",
        "  data.loc[ind, 'id'] = filename\n",
        "  data.loc[ind, 'label'] = label\n",
        "  data.loc[ind, 'conf'] = conf\n",
        "\n",
        "html_all = data.to_html(escape=False)\n",
        "display(HTML(html_all))"
      ]
    }
  ],
  "metadata": {
    "accelerator": "GPU",
    "colab": {
      "collapsed_sections": [],
      "include_colab_link": true,
      "name": "deep-text-recognition-benchmark.ipynb",
      "provenance": []
    },
    "kernelspec": {
      "display_name": "Python 3",
      "name": "python3"
    },
    "language_info": {
      "codemirror_mode": {
        "name": "ipython",
        "version": 3
      },
      "file_extension": ".py",
      "mimetype": "text/x-python",
      "name": "python",
      "nbconvert_exporter": "python",
      "pygments_lexer": "ipython3",
      "version": "3.9.7"
    }
  },
  "nbformat": 4,
  "nbformat_minor": 0
}
